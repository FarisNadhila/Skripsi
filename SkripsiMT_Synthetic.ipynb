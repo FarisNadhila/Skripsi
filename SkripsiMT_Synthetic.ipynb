{
 "cells": [
  {
   "cell_type": "markdown",
   "id": "46d486a0",
   "metadata": {},
   "source": [
    "## **Import Library**"
   ]
  },
  {
   "cell_type": "code",
   "execution_count": 9,
   "id": "57162e5c",
   "metadata": {},
   "outputs": [],
   "source": [
    "#Base Python\n",
    "import numpy as np\n",
    "import matplotlib.pyplot as plt\n",
    "import matplotlib.colors as LogNorm\n",
    "import ipywidgets\n",
    "import os\n",
    "import pandas as pd\n",
    "from __future__ import print_function\n",
    "from glob import glob\n",
    "\n",
    "#tools simpeg\n",
    "import SimPEG\n",
    "import discretize\n",
    "from SimPEG import electromagnetics\n",
    "from SimPEG import survey\n",
    "from SimPEG import utils\n",
    "\n",
    "\n",
    "#solver\n",
    "try:\n",
    "    from pymatsolver import Pardiso as Solver\n",
    "except ImportError:\n",
    "    from SimPEG import SolverLU as Solver\n",
    "\n",
    "from SimPEG import (\n",
    "    Data, maps, data_misfit, regularization, optimization, inverse_problem,\n",
    "    inversion, directives\n",
    ")\n",
    "from SimPEG.regularization import sparse\n",
    "\n",
    "#Modul Magnetotellurik\n",
    "from SimPEG.electromagnetics import resistivity as dc\n",
    "from SimPEG.electromagnetics import natural_source as NSEM\n",
    "\n",
    "#Math LIB\n",
    "from scipy.constants import mu_0, epsilon_0\n",
    "import scipy.sparse as sp"
   ]
  },
  {
   "cell_type": "code",
   "execution_count": 10,
   "id": "6f21e53b",
   "metadata": {},
   "outputs": [],
   "source": [
    "from matplotlib import rcParams\n",
    "rcParams[\"font.size\"] = 14"
   ]
  },
  {
   "cell_type": "markdown",
   "id": "f51c4fa6",
   "metadata": {},
   "source": [
    "## **Skin Depth**"
   ]
  },
  {
   "cell_type": "code",
   "execution_count": 18,
   "id": "32fec3a5",
   "metadata": {},
   "outputs": [
    {
     "name": "stdout",
     "output_type": "stream",
     "text": [
      "minimum skin depth 158.1\n",
      "maximum skin depth 50000.0\n"
     ]
    }
   ],
   "source": [
    "sigma_halfspace = 1e-2\n",
    "fmax = 1e3\n",
    "fmin = 1e-2\n",
    "\n",
    "def skin_depth (sigma,f):\n",
    "    return 500/np.sqrt(sigma*f)\n",
    "\n",
    "skin_depth_min = skin_depth(sigma_halfspace, fmax)\n",
    "skin_depth_max = skin_depth(sigma_halfspace, fmin)\n",
    "\n",
    "print('minimum skin depth {:2.1f}'.format(skin_depth_min))\n",
    "print('maximum skin depth {:2.1f}'.format(skin_depth_max))"
   ]
  },
  {
   "cell_type": "code",
   "execution_count": null,
   "id": "38b8a308",
   "metadata": {},
   "outputs": [],
   "source": [
    "print('')"
   ]
  },
  {
   "cell_type": "markdown",
   "id": "cf50ce31",
   "metadata": {},
   "source": [
    "## **Membuat Mesh Half-space**"
   ]
  },
  {
   "cell_type": "code",
   "execution_count": null,
   "id": "4eb834ea",
   "metadata": {},
   "outputs": [],
   "source": []
  },
  {
   "cell_type": "code",
   "execution_count": null,
   "id": "61d52aae",
   "metadata": {},
   "outputs": [],
   "source": []
  }
 ],
 "metadata": {
  "kernelspec": {
   "display_name": "Python 3 (ipykernel)",
   "language": "python",
   "name": "python3"
  },
  "language_info": {
   "codemirror_mode": {
    "name": "ipython",
    "version": 3
   },
   "file_extension": ".py",
   "mimetype": "text/x-python",
   "name": "python",
   "nbconvert_exporter": "python",
   "pygments_lexer": "ipython3",
   "version": "3.8.8"
  }
 },
 "nbformat": 4,
 "nbformat_minor": 5
}
