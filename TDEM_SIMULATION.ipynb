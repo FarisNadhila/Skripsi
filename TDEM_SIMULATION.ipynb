{
 "cells": [
  {
   "cell_type": "code",
   "execution_count": 1,
   "id": "947b39ff",
   "metadata": {},
   "outputs": [],
   "source": [
    "import numpy as np\n",
    "import matplotlib.pyplot as plt\n",
    "from matplotlib.colors import LogNorm, Normalize\n",
    "import ipywidgets\n",
    "from scipy.constants import mu_0\n",
    "\n",
    "\n",
    "import discretize\n",
    "from SimPEG import maps\n",
    "from SimPEG.electromagnetics import time_domain as tdem\n",
    "from pymatsolver import solvers"
   ]
  },
  {
   "cell_type": "code",
   "execution_count": null,
   "id": "e16f5a43",
   "metadata": {},
   "outputs": [],
   "source": []
  }
 ],
 "metadata": {
  "kernelspec": {
   "display_name": "Python 3 (ipykernel)",
   "language": "python",
   "name": "python3"
  },
  "language_info": {
   "codemirror_mode": {
    "name": "ipython",
    "version": 3
   },
   "file_extension": ".py",
   "mimetype": "text/x-python",
   "name": "python",
   "nbconvert_exporter": "python",
   "pygments_lexer": "ipython3",
   "version": "3.8.8"
  }
 },
 "nbformat": 4,
 "nbformat_minor": 5
}
