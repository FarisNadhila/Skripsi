{
 "cells": [
  {
   "cell_type": "markdown",
   "id": "46d486a0",
   "metadata": {},
   "source": [
    "## **Import Library**"
   ]
  },
  {
   "cell_type": "code",
   "execution_count": 4,
   "id": "57162e5c",
   "metadata": {},
   "outputs": [],
   "source": [
    "#Base Python\n",
    "import numpy as np\n",
    "import matplotlib.pyplot as plt\n",
    "import matplotlib.colors as LogNorm\n",
    "import ipywidgets\n",
    "import os\n",
    "import pandas as pd\n",
    "from __future__ import print_function\n",
    "from glob import glob\n",
    "\n",
    "#tools simpeg\n",
    "import SimPEG\n",
    "import discretize\n",
    "from SimPEG import electromagnetics\n",
    "from SimPEG import survey\n",
    "from SimPEG import utils\n",
    "\n",
    "\n",
    "#solver\n",
    "try:\n",
    "    from pymatsolver import Pardiso as Solver\n",
    "except ImportError:\n",
    "    from SimPEG import SolverLU as Solver\n",
    "\n",
    "from SimPEG import (\n",
    "    Data, maps, data_misfit, regularization, optimization, inverse_problem,\n",
    "    inversion, directives\n",
    ")\n",
    "from SimPEG.regularization import sparse\n",
    "\n",
    "#Modul Magnetotellurik\n",
    "from SimPEG.electromagnetics import resistivity as dc\n",
    "from SimPEG.electromagnetics import natural_source as NSEM\n",
    "\n",
    "#Math LIB\n",
    "from scipy.constants import mu_0, epsilon_0\n",
    "import scipy.sparse as sp"
   ]
  },
  {
   "cell_type": "code",
   "execution_count": 5,
   "id": "6f21e53b",
   "metadata": {},
   "outputs": [],
   "source": [
    "from matplotlib import rcParams\n",
    "rcParams[\"font.size\"] = 14"
   ]
  },
  {
   "cell_type": "markdown",
   "id": "f51c4fa6",
   "metadata": {},
   "source": [
    "## **Skin Depth**"
   ]
  },
  {
   "cell_type": "code",
   "execution_count": 6,
   "id": "32fec3a5",
   "metadata": {},
   "outputs": [
    {
     "name": "stdout",
     "output_type": "stream",
     "text": [
      "minimum skin depth 158.1 m\n",
      "maximum skin depth 50000.0 m\n"
     ]
    }
   ],
   "source": [
    "sigma_halfspace = 1e-2\n",
    "fmax = 1e3\n",
    "fmin = 1e-2\n",
    "\n",
    "def skin_depth (sigma,f):\n",
    "    return 500/np.sqrt(sigma*f)\n",
    "\n",
    "skin_depth_min = skin_depth(sigma_halfspace, fmax)\n",
    "skin_depth_max = skin_depth(sigma_halfspace, fmin)\n",
    "\n",
    "print('minimum skin depth {:2.1f} m'.format(skin_depth_min))\n",
    "print('maximum skin depth {:2.1f} m'.format(skin_depth_max))"
   ]
  },
  {
   "cell_type": "code",
   "execution_count": 7,
   "id": "38b8a308",
   "metadata": {},
   "outputs": [
    {
     "name": "stdout",
     "output_type": "stream",
     "text": [
      "ukuran sel terkecil 39.53 m\n",
      "panjang mesh 1.0e+05 m\n"
     ]
    }
   ],
   "source": [
    "print('ukuran sel terkecil {:2.2f} m'.format(skin_depth_min / 4))\n",
    "print('panjang mesh {:1.1e} m'.format (skin_depth_max * 2))"
   ]
  },
  {
   "cell_type": "markdown",
   "id": "cf50ce31",
   "metadata": {},
   "source": [
    "## **Membuat Mesh Half-space**"
   ]
  },
  {
   "cell_type": "code",
   "execution_count": 24,
   "id": "4eb834ea",
   "metadata": {},
   "outputs": [
    {
     "name": "stdout",
     "output_type": "stream",
     "text": [
      "Panjang Mesh = 1.2e+05 m\n"
     ]
    },
    {
     "data": {
      "image/png": "[encoded data removed]",
      "text/plain": [
       "<Figure size 720x360 with 1 Axes>"
      ]
     },
     "metadata": {
      "needs_background": "light"
     },
     "output_type": "display_data"
    }
   ],
   "source": [
    "cs = 39 #ukuran inti sel terkecil\n",
    "npad = 25 #lapisan cell\n",
    "ncz = 100 # jumlah inti sel\n",
    "\n",
    "#Tensor Mesh\n",
    "hz = [(cs, npad, -1.3), (cs, ncz)];\n",
    "mesh = discretize.TensorMesh([hz], x0='N'); #nilai awal dari permukaan\n",
    "\n",
    "#Plot mesh\n",
    "\n",
    "fig, ax = plt.subplots(1,1, figsize=(10,5))\n",
    "mesh.plot_grid(centers = True, faces = True, ax=ax)\n",
    "ax.legend([\"centers\", \"faces\"])\n",
    "ax.invert_xaxis()\n",
    "ax.set_xlabel('z (m)')\n",
    "ax.grid(which = \"both\", linewidth = 0.5)\n",
    "\n",
    "print(\"Panjang Mesh = {:1.1e} m\".format(mesh.hx.sum()))\n"
   ]
  },
  {
   "cell_type": "code",
   "execution_count": 26,
   "id": "61d52aae",
   "metadata": {},
   "outputs": [
    {
     "data": {
      "text/html": [
       "<table>\n",
       "  <tr>\n",
       "    <td style='font-weight: bold; font-size: 1.2em; text-align: center;' colspan='3'>TensorMesh</td>\n",
       "    <td style='font-size: 1.2em; text-align: center;'colspan='4'>125 cells</td>\n",
       "  </tr>\n",
       "  <tr>\n",
       "    <th></th>\n",
       "    <th></th>\n",
       "    <th colspan='2' style='padding: 5px 20px 5px 20px;'>MESH EXTENT</th>\n",
       "    <th colspan='2' style='padding: 5px 20px 5px 20px;'>CELL WIDTH</th>\n",
       "    <th style='padding: 5px 20px 5px 20px;'>FACTOR</th>\n",
       "  </tr>\n",
       "  <tr>\n",
       "    <th style='padding: 5px 20px 5px 20px;'>dir</th>\n",
       "    <th style='padding: 5px 20px 5px 20px;'>nC</th>\n",
       "    <th style='padding: 5px 20px 5px 20px;'>min</th>\n",
       "    <th style='padding: 5px 20px 5px 20px;'>max</th>\n",
       "    <th style='padding: 5px 20px 5px 20px;'>min</th>\n",
       "    <th style='padding: 5px 20px 5px 20px;'>max</th>\n",
       "    <th style='padding: 5px 20px 5px 20px;'>max</th>\n",
       "  </tr>\n",
       "  <tr>\n",
       "    <td style='padding: 5px 20px 5px 20px;'>x</td>\n",
       "    <td style='padding: 5px 20px 5px 20px;'>125</td>\n",
       "    <td style='padding: 5px 20px 5px 20px;'>-122,984.33</td>\n",
       "    <td style='padding: 5px 20px 5px 20px;'>-0.00</td>\n",
       "    <td style='padding: 5px 20px 5px 20px;'>39.00</td>\n",
       "    <td style='padding: 5px 20px 5px 20px;'>27,520.00</td>\n",
       "    <td style='padding: 5px 20px 5px 20px;'>1.30</td>\n",
       "  </tr>\n",
       "</table>\n"
      ],
      "text/plain": [
       "\n",
       "  TensorMesh: 125 cells\n",
       "\n",
       "                      MESH EXTENT             CELL WIDTH      FACTOR\n",
       "  dir    nC        min           max         min       max      max\n",
       "  ---   ---  ---------------------------  ------------------  ------\n",
       "   x    125   -122,984.33         -0.00     39.00 27,520.00    1.30\n"
      ]
     },
     "execution_count": 26,
     "metadata": {},
     "output_type": "execute_result"
    }
   ],
   "source": [
    "mesh"
   ]
  },
  {
   "cell_type": "markdown",
   "id": "cdcb5bbf",
   "metadata": {},
   "source": [
    "### **Parameter**"
   ]
  },
  {
   "cell_type": "code",
   "execution_count": 28,
   "id": "3d599589",
   "metadata": {},
   "outputs": [],
   "source": [
    "    sigma = np.ones(mesh.nC)*sigma_halfspace\n",
    "    mu = np.ones(mesh.nC)*mu_0\n",
    "    epsilon = np.ones(mesh.nC)*epsilon_0"
   ]
  },
  {
   "cell_type": "code",
   "execution_count": 34,
   "id": "6e10def4",
   "metadata": {},
   "outputs": [
    {
     "name": "stdout",
     "output_type": "stream",
     "text": [
      "ada 125 sel pusat. \n",
      "ada 125 elemen sigma   yang memiliki nilai 1.00e-02 S/m \n",
      "ada 125 elemen mu      yang memiliki nilai 1.26e-06 H/m \n",
      "ada 125 elemen epsilon yang memiliki nilai 8.85e-12 F/m \n",
      "\n"
     ]
    }
   ],
   "source": [
    "print(\n",
    "    \"ada {:1.0f} sel pusat. \\n\"\n",
    "    \"ada {:1.0f} elemen sigma   yang memiliki nilai {:1.2e} S/m \\n\"\n",
    "    \"ada {:1.0f} elemen mu      yang memiliki nilai {:1.2e} H/m \\n\"\n",
    "    \"ada {:1.0f} elemen epsilon yang memiliki nilai {:1.2e} F/m \\n\".format(\n",
    "        mesh.nC,\n",
    "        len(sigma), sigma_halfspace,\n",
    "        len(mu), mu_0,\n",
    "        len(epsilon), epsilon_0\n",
    "    )\n",
    ")"
   ]
  },
  {
   "cell_type": "code",
   "execution_count": null,
   "id": "924fd6f3",
   "metadata": {},
   "outputs": [],
   "source": [
    "freq = 1e2 \n",
    "def omega(freq):\n",
    "    return 2.*np.pi*freq\n"
   ]
  },
  {
   "cell_type": "code",
   "execution_count": 35,
   "id": "dbbcd09b",
   "metadata": {},
   "outputs": [],
   "source": [
    "sigmahat = sigma"
   ]
  },
  {
   "cell_type": "code",
   "execution_count": 38,
   "id": "eeb79d4b",
   "metadata": {},
   "outputs": [],
   "source": [
    "\n",
    "Grad = mesh.cellGrad\n",
    "\n",
    "Mmu = utils.sdiag(mesh.aveCC2F * mu)\n",
    "\n",
    "Msighat = utils.sdiag(sigmahat)\n",
    "\n",
    "Div = mesh.faceDiv\n",
    "\n",
    "B = mesh.cellGradBC\n",
    "Exbc = np.r_[0., 1.]"
   ]
  },
  {
   "cell_type": "code",
   "execution_count": null,
   "id": "31cc18d8",
   "metadata": {},
   "outputs": [],
   "source": []
  }
 ],
 "metadata": {
  "kernelspec": {
   "display_name": "Python 3 (ipykernel)",
   "language": "python",
   "name": "python3"
  },
  "language_info": {
   "codemirror_mode": {
    "name": "ipython",
    "version": 3
   },
   "file_extension": ".py",
   "mimetype": "text/x-python",
   "name": "python",
   "nbconvert_exporter": "python",
   "pygments_lexer": "ipython3",
   "version": "3.8.8"
  }
 },
 "nbformat": 4,
 "nbformat_minor": 5
}
